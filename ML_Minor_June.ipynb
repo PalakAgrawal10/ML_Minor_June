{
 "cells": [
  {
   "cell_type": "markdown",
   "id": "7753b46b",
   "metadata": {},
   "source": [
    "# Classification analysis on Iris dataset using SVM(SVC) alogrithm"
   ]
  },
  {
   "cell_type": "markdown",
   "id": "e51349ef",
   "metadata": {},
   "source": [
    "Importing Libraries"
   ]
  },
  {
   "cell_type": "code",
   "execution_count": null,
   "id": "be186eb7",
   "metadata": {},
   "outputs": [],
   "source": [
    "import pandas as pd\n",
    "from sklearn.model_selection import train_test_split\n",
    "from sklearn.preprocessing import StandardScaler\n",
    "from sklearn.svm import SVC\n",
    "from sklearn.metrics import accuracy_score,confusion_matrix"
   ]
  },
  {
   "cell_type": "markdown",
   "id": "65c230bc",
   "metadata": {},
   "source": [
    "Importing Dataset"
   ]
  },
  {
   "cell_type": "code",
   "execution_count": null,
   "id": "0a6298bd",
   "metadata": {},
   "outputs": [],
   "source": [
    "df=pd.read_csv(\"Iris.csv\")\n",
    "df"
   ]
  },
  {
   "cell_type": "markdown",
   "id": "c48537bf",
   "metadata": {},
   "source": [
    "Taking the main columns to be used as x and labels as y"
   ]
  },
  {
   "cell_type": "code",
   "execution_count": null,
   "id": "cbe199dc",
   "metadata": {},
   "outputs": [],
   "source": [
    "x=df.iloc[:,1:5].values\n",
    "y=df.iloc[:,5].values"
   ]
  },
  {
   "cell_type": "markdown",
   "id": "e2fc4af0",
   "metadata": {},
   "source": [
    "Splitting the Dataset into Train data and Test data in 3:1 ratio"
   ]
  },
  {
   "cell_type": "code",
   "execution_count": null,
   "id": "0f231cb0",
   "metadata": {},
   "outputs": [],
   "source": [
    "x_train,x_test,y_train,y_test=train_test_split(x,y,test_size=0.25,random_state=10)"
   ]
  },
  {
   "cell_type": "markdown",
   "id": "5102fc9f",
   "metadata": {},
   "source": [
    "Calling the StandardScaler method"
   ]
  },
  {
   "cell_type": "code",
   "execution_count": null,
   "id": "0c2f020c",
   "metadata": {},
   "outputs": [],
   "source": [
    "sc=StandardScaler()"
   ]
  },
  {
   "cell_type": "markdown",
   "id": "77d1080f",
   "metadata": {},
   "source": [
    "## Training the Data"
   ]
  },
  {
   "cell_type": "code",
   "execution_count": null,
   "id": "76f28672",
   "metadata": {},
   "outputs": [],
   "source": [
    "x_train=sc.fit_transform(x_train)\n",
    "x_test=sc.fit_transform(x_test)"
   ]
  },
  {
   "cell_type": "markdown",
   "id": "d7364451",
   "metadata": {},
   "source": [
    "Calling the SVC Method for classification by taking Kernel in 2-Dimension first"
   ]
  },
  {
   "cell_type": "code",
   "execution_count": null,
   "id": "1bcc8ac2",
   "metadata": {},
   "outputs": [],
   "source": [
    "svc=SVC(kernel=\"linear\",random_state=10)"
   ]
  },
  {
   "cell_type": "markdown",
   "id": "a3f0a461",
   "metadata": {},
   "source": [
    "Fitting the trained data into the SVC Classifier"
   ]
  },
  {
   "cell_type": "code",
   "execution_count": null,
   "id": "f85001b4",
   "metadata": {},
   "outputs": [],
   "source": [
    "svc.fit(x_train,y_train)"
   ]
  },
  {
   "cell_type": "markdown",
   "id": "ac44f98c",
   "metadata": {},
   "source": [
    "Predicting the output"
   ]
  },
  {
   "cell_type": "code",
   "execution_count": null,
   "id": "9c5496f4",
   "metadata": {},
   "outputs": [],
   "source": [
    "y_pred=svc.predict(x_test)\n",
    "y_pred"
   ]
  },
  {
   "cell_type": "markdown",
   "id": "99a680fe",
   "metadata": {},
   "source": [
    "Checking for True positive, True Negative, False Positive and False Negative "
   ]
  },
  {
   "cell_type": "code",
   "execution_count": null,
   "id": "e68ea4ab",
   "metadata": {},
   "outputs": [],
   "source": [
    "confusion_matrix(y_test,y_pred)"
   ]
  },
  {
   "cell_type": "markdown",
   "id": "0ee9f2ab",
   "metadata": {},
   "source": [
    "Checking the accuracy score of the Model"
   ]
  },
  {
   "cell_type": "code",
   "execution_count": null,
   "id": "b6817707",
   "metadata": {},
   "outputs": [],
   "source": [
    "accuracy_score(y_test,y_pred)"
   ]
  },
  {
   "cell_type": "markdown",
   "id": "477f1d4f",
   "metadata": {},
   "source": [
    "##### The accuracy from 2-D kernel comes out to be 92.1%"
   ]
  },
  {
   "cell_type": "markdown",
   "id": "a70d1fe9",
   "metadata": {},
   "source": [
    "### RBF"
   ]
  },
  {
   "cell_type": "markdown",
   "id": "a453fe4c",
   "metadata": {},
   "source": [
    "Calling the SVC Method for classification by taking Kernel in 3-Dimension or rbf"
   ]
  },
  {
   "cell_type": "code",
   "execution_count": null,
   "id": "7edfa44f",
   "metadata": {},
   "outputs": [],
   "source": [
    "svc=SVC(random_state=10)"
   ]
  },
  {
   "cell_type": "markdown",
   "id": "1518767a",
   "metadata": {},
   "source": [
    "Fitting the trained data into the SVC Classifier"
   ]
  },
  {
   "cell_type": "code",
   "execution_count": null,
   "id": "095547ed",
   "metadata": {},
   "outputs": [],
   "source": [
    "svc.fit(x_train,y_train)"
   ]
  },
  {
   "cell_type": "markdown",
   "id": "b59c8167",
   "metadata": {},
   "source": [
    "Predicting the output"
   ]
  },
  {
   "cell_type": "code",
   "execution_count": null,
   "id": "751fbbca",
   "metadata": {},
   "outputs": [],
   "source": [
    "y_pred=svc.predict(x_test)\n",
    "y_pred"
   ]
  },
  {
   "cell_type": "markdown",
   "id": "3bb6a6a9",
   "metadata": {},
   "source": [
    "Checking for True positive, True Negative, False Positive and False Negative"
   ]
  },
  {
   "cell_type": "code",
   "execution_count": null,
   "id": "e4788aad",
   "metadata": {},
   "outputs": [],
   "source": [
    "confusion_matrix(y_test,y_pred)"
   ]
  },
  {
   "cell_type": "markdown",
   "id": "46bdf9bb",
   "metadata": {},
   "source": [
    "Checking the accuracy score of the Model"
   ]
  },
  {
   "cell_type": "code",
   "execution_count": null,
   "id": "00fe35bb",
   "metadata": {},
   "outputs": [],
   "source": [
    "accuracy_score(y_test,y_pred)"
   ]
  },
  {
   "cell_type": "markdown",
   "id": "1c54bf45",
   "metadata": {},
   "source": [
    "##### The accuracy from rbf or 3-D kernel comes out to be 100% "
   ]
  }
 ],
 "metadata": {
  "kernelspec": {
   "display_name": "Python 3",
   "language": "python",
   "name": "python3"
  },
  "language_info": {
   "codemirror_mode": {
    "name": "ipython",
    "version": 3
   },
   "file_extension": ".py",
   "mimetype": "text/x-python",
   "name": "python",
   "nbconvert_exporter": "python",
   "pygments_lexer": "ipython3",
   "version": "3.8.8"
  }
 },
 "nbformat": 4,
 "nbformat_minor": 5
}
